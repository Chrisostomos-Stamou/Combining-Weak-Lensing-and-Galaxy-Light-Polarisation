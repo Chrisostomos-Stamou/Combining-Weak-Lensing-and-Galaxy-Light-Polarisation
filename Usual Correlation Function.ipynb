{
 "cells": [
  {
   "cell_type": "code",
   "execution_count": null,
   "id": "cfec3847-b33b-4251-897b-33cdd4aa3c24",
   "metadata": {},
   "outputs": [],
   "source": [
    "# Shear Correlation Functions using TreeCorr"
   ]
  },
  {
   "cell_type": "code",
   "execution_count": 2,
   "id": "4256504e-1995-4693-8a49-a42d0d564ac6",
   "metadata": {},
   "outputs": [
    {
     "name": "stdout",
     "output_type": "stream",
     "text": [
      ".ipynb_checkpoints\n",
      "shear.txt\n",
      "Untitled.ipynb\n",
      "ellipticity.txt\n",
      "GalCatalog_LOS2.fits\n",
      "TreeCorr\n",
      "shear_list.txt\n",
      "eobs_list.txt\n",
      "cat1.ipynb\n",
      "polarization.txt\n",
      "gg.out\n",
      "gg2.out\n",
      "GalCatalog_LOS1.fits\n",
      "polarisation.txt\n"
     ]
    }
   ],
   "source": [
    "# Set coordinates x,y\n",
    "# We use the SLICS Mock-Source KiDS-450 catalog\n",
    "# First, we need to import the necessary libraries and change the working directory\n",
    "from astropy.io import fits\n",
    "import os\n",
    "import numpy as np\n",
    "import treecorr\n",
    "import fitsio\n",
    "for g in os.listdir(\"/home/stamou/Downloads/KiDS450_download_dir\"):\n",
    "    print(g)\n",
    "os.chdir('/home/stamou/Downloads/KiDS450_download_dir')\n",
    "os.getcwd()\n",
    "catalog1=fits.open('GalCatalog_LOS1.fits')[1].data\n",
    "catalog1\n",
    "# We save the x and y coordinates as separate arrays and we import them as follows:\n",
    "x_list=[[catalog1[i][0]] for i in range(3070801)]\n",
    "y_list=[[catalog1[i][1]] for i in range(3070801)]"
   ]
  },
  {
   "cell_type": "code",
   "execution_count": 3,
   "id": "e0b36ea2-f62a-481a-aed6-5878275c66e3",
   "metadata": {},
   "outputs": [],
   "source": [
    "# We want to compute the usual correlation function. \n",
    "#Load the data from the catalogue\n",
    "shearfull=np.loadtxt('shear_list.txt')\n",
    "eobsfull=np.loadtxt('eobs_list.txt') \n",
    "shear1=[shearfull[i][0] for i in range(3070801)]\n",
    "shear2=[shearfull[i][1] for i in range(3070801)]\n",
    "eobs1=[eobsfull[i][0] for i in range(3070801)]\n",
    "eobs2=[eobsfull[i][1] for i in range(3070801)]\n",
    "eint1=[eobs1[i]-shear1[i] for i in range(3070801)]\n",
    "eint2=[eobs2[i]-shear2[i] for i in range(3070801)]"
   ]
  },
  {
   "cell_type": "code",
   "execution_count": 4,
   "id": "6da81ac3-4c89-4f22-8b5d-e81e2f7c7ed7",
   "metadata": {},
   "outputs": [
    {
     "name": "stdout",
     "output_type": "stream",
     "text": [
      "Warning: Input x column was not 1-d.\n",
      "         Reshaping from (3070801, 1) to (3070801,)\n",
      "Warning: Input y column was not 1-d.\n",
      "         Reshaping from (3070801, 1) to (3070801,)\n"
     ]
    }
   ],
   "source": [
    "# We start from the usual estimator\n",
    "mycat1=treecorr.Catalog(x=x_list, y=y_list, g1=shear1, g2=shear2, x_units='arcmin', y_units='arcmin')\n",
    "corrf1=treecorr.GGCorrelation(min_sep=1., max_sep=100, bin_size=0.1, sep_units='arcmin')\n",
    "corrf1.process(mycat1)"
   ]
  },
  {
   "cell_type": "code",
   "execution_count": 5,
   "id": "2815ab48-6f22-45f3-a39f-8d3dc5717653",
   "metadata": {},
   "outputs": [],
   "source": [
    "# Define the separation\n",
    "r=np.exp(corrf1.meanlogr)\n",
    "xips=corrf1.xip\n",
    "xims=corrf1.xim"
   ]
  },
  {
   "cell_type": "code",
   "execution_count": 13,
   "id": "86b5ad4a-1389-491b-9989-932eba7b1b0b",
   "metadata": {},
   "outputs": [
    {
     "data": {
      "image/png": "[encoded data removed]",
      "text/plain": [
       "<Figure size 432x288 with 1 Axes>"
      ]
     },
     "metadata": {
      "needs_background": "light"
     },
     "output_type": "display_data"
    }
   ],
   "source": [
    "# Plot the results\n",
    "import matplotlib.pyplot as plt\n",
    "\n",
    "plt.plot(r, xips, color='blue', label=r'$\\xi_{+}$')\n",
    "plt.xscale('log')\n",
    "plt.yscale('log', nonpositive='clip')\n",
    "\n",
    "plt.plot(r, xims, color='green',label=r'$\\xi_{-}$')\n",
    "plt.xscale('log')\n",
    "plt.yscale('log', nonpositive='clip')\n",
    "\n",
    "plt.xlabel(r'$\\theta$ (arcmin)')\n",
    "plt.ylabel(r'$\\xi_{\\pm}$')\n",
    "plt.title('Shear Correlation Functions')\n",
    "plt.legend()\n",
    "plt.show()"
   ]
  },
  {
   "cell_type": "code",
   "execution_count": null,
   "id": "65cbf198-21f1-4872-b854-f2d97893c428",
   "metadata": {},
   "outputs": [],
   "source": []
  }
 ],
 "metadata": {
  "kernelspec": {
   "display_name": "Python 3",
   "language": "python",
   "name": "python3"
  },
  "language_info": {
   "codemirror_mode": {
    "name": "ipython",
    "version": 3
   },
   "file_extension": ".py",
   "mimetype": "text/x-python",
   "name": "python",
   "nbconvert_exporter": "python",
   "pygments_lexer": "ipython3",
   "version": "3.6.8"
  }
 },
 "nbformat": 4,
 "nbformat_minor": 5
}
